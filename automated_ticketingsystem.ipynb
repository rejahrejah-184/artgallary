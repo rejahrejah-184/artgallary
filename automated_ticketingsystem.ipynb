{
  "nbformat": 4,
  "nbformat_minor": 0,
  "metadata": {
    "colab": {
      "name": "automated_ticketingsystem.ipynb",
      "provenance": [],
      "collapsed_sections": []
    },
    "kernelspec": {
      "name": "python3",
      "display_name": "Python 3"
    },
    "language_info": {
      "name": "python"
    },
    "accelerator": "GPU"
  },
  "cells": [
    {
      "cell_type": "code",
      "metadata": {
        "colab": {
          "base_uri": "https://localhost:8080/"
        },
        "id": "ym5uUuqVUhBr",
        "outputId": "ba852254-f886-4357-8a3f-b97348423a07"
      },
      "source": [
        "\n",
        "from google.colab import drive\n",
        "drive.mount('/mnt/drive/')"
      ],
      "execution_count": null,
      "outputs": [
        {
          "output_type": "stream",
          "text": [
            "Mounted at /mnt/drive/\n"
          ],
          "name": "stdout"
        }
      ]
    },
    {
      "cell_type": "code",
      "metadata": {
        "colab": {
          "base_uri": "https://localhost:8080/",
          "height": 53
        },
        "id": "a5zit1lgx2Y5",
        "outputId": "9a968f78-feed-4ea9-f3bf-a1b32745533a"
      },
      "source": [
        "%cd /mnt/drive/MyDrive/Colab\\ Notebooks\n",
        "%pwd\n"
      ],
      "execution_count": null,
      "outputs": [
        {
          "output_type": "stream",
          "text": [
            "/mnt/drive/MyDrive/Colab Notebooks\n"
          ],
          "name": "stdout"
        },
        {
          "output_type": "execute_result",
          "data": {
            "application/vnd.google.colaboratory.intrinsic+json": {
              "type": "string"
            },
            "text/plain": [
              "'/mnt/drive/MyDrive/Colab Notebooks'"
            ]
          },
          "metadata": {
            "tags": []
          },
          "execution_count": 4
        }
      ]
    },
    {
      "cell_type": "code",
      "metadata": {
        "id": "RcMPZjyivxR1"
      },
      "source": [
        "#from google.colab import drive\n",
        "#drive.mount('/content/drive')"
      ],
      "execution_count": null,
      "outputs": []
    },
    {
      "cell_type": "code",
      "metadata": {
        "id": "64MxWdzQVE4m"
      },
      "source": [
        "import pandas as pd\n",
        "import numpy as np\n",
        "import seaborn as sns\n",
        "import matplotlib.pyplot as plt"
      ],
      "execution_count": null,
      "outputs": []
    },
    {
      "cell_type": "markdown",
      "metadata": {
        "id": "bRjjE2T6WQJf"
      },
      "source": [
        "## Input dtataset and read **data** bold text"
      ]
    },
    {
      "cell_type": "code",
      "metadata": {
        "id": "T7ofSNmxVL7C"
      },
      "source": [
        "df = pd.read_excel(\"/mnt/drive/MyDrive/Colab Notebooks/Input_Data_Synthetic.xlsx\")\n"
      ],
      "execution_count": null,
      "outputs": []
    },
    {
      "cell_type": "markdown",
      "metadata": {
        "id": "nYETqEKDWjiB"
      },
      "source": [
        "## EDA Processing\n"
      ]
    },
    {
      "cell_type": "code",
      "metadata": {
        "id": "rY0BUBSoV4js"
      },
      "source": [
        "# Drop irrelevant columns\n",
        "\n",
        "df = df.drop(['Caller'], axis=1)"
      ],
      "execution_count": null,
      "outputs": []
    },
    {
      "cell_type": "code",
      "metadata": {
        "colab": {
          "base_uri": "https://localhost:8080/"
        },
        "id": "mAdBK3cVWzBf",
        "outputId": "e7dac814-f44d-4fd1-ff37-bbc19d7f0e54"
      },
      "source": [
        "df['Assignment group'].value_counts(ascending=True)\n"
      ],
      "execution_count": null,
      "outputs": [
        {
          "output_type": "execute_result",
          "data": {
            "text/plain": [
              "GRP_61       1\n",
              "GRP_70       1\n",
              "GRP_67       1\n",
              "GRP_64       1\n",
              "GRP_73       1\n",
              "          ... \n",
              "GRP_9      252\n",
              "GRP_12     257\n",
              "GRP_24     289\n",
              "GRP_8      661\n",
              "GRP_0     3976\n",
              "Name: Assignment group, Length: 74, dtype: int64"
            ]
          },
          "metadata": {
            "tags": []
          },
          "execution_count": 8
        }
      ]
    },
    {
      "cell_type": "code",
      "metadata": {
        "colab": {
          "base_uri": "https://localhost:8080/",
          "height": 1000
        },
        "id": "O-4WHGN2W6Ye",
        "outputId": "38e2f920-ee01-4fc1-fd75-216c0361eb7b"
      },
      "source": [
        "\n",
        "plt.figure(figsize=(20,20))\n",
        "sns.countplot(y=df['Assignment group'])\n"
      ],
      "execution_count": null,
      "outputs": [
        {
          "output_type": "execute_result",
          "data": {
            "text/plain": [
              "<matplotlib.axes._subplots.AxesSubplot at 0x7f14cb70bdd0>"
            ]
          },
          "metadata": {
            "tags": []
          },
          "execution_count": 9
        },
        {
          "output_type": "display_data",
          "data": {
            "image/png": "[encoded data removed]",
            "text/plain": [
              "<Figure size 1440x1440 with 1 Axes>"
            ]
          },
          "metadata": {
            "tags": [],
            "needs_background": "light"
          }
        }
      ]
    },
    {
      "cell_type": "code",
      "metadata": {
        "id": "JOhKqg1wXCdS"
      },
      "source": [
        "# Downsample majority class\n",
        "\n",
        "\n",
        "from sklearn.utils import resample\n",
        "\n",
        "df_majority = df.loc[df['Assignment group'] == 'GRP_0']\n",
        "df_minority = df.loc[df['Assignment group'] != 'GRP_0']\n",
        "df_majority_downsampled = resample(df_majority, \n",
        "                        replace=False,     # sample with replacement\n",
        "                        n_samples=600,    # to match majority class\n",
        "                        random_state=123) # reproducible results"
      ],
      "execution_count": null,
      "outputs": []
    },
    {
      "cell_type": "code",
      "metadata": {
        "id": "9wxLqJzvXHik"
      },
      "source": [
        "df = pd.concat([df_majority_downsampled, df_minority])\n"
      ],
      "execution_count": null,
      "outputs": []
    },
    {
      "cell_type": "code",
      "metadata": {
        "id": "kctJOsN4XNNO"
      },
      "source": [
        "# Upsample minority\n",
        "\n",
        "max_size = df['Assignment group'].value_counts().max()\n",
        "\n",
        "lst = [df]\n",
        "for class_index, group in df.groupby('Assignment group'):\n",
        "    lst.append(group.sample(max_size-len(group), replace=True))\n",
        "df = pd.concat(lst)"
      ],
      "execution_count": null,
      "outputs": []
    },
    {
      "cell_type": "code",
      "metadata": {
        "colab": {
          "base_uri": "https://localhost:8080/",
          "height": 1000
        },
        "id": "jQUCnqI1XPyE",
        "outputId": "c9cbe524-684d-49ab-ce67-89cd40b8f007"
      },
      "source": [
        "plt.figure(figsize=(20,20))\n",
        "sns.countplot(y=df['Assignment group'])"
      ],
      "execution_count": null,
      "outputs": [
        {
          "output_type": "execute_result",
          "data": {
            "text/plain": [
              "<matplotlib.axes._subplots.AxesSubplot at 0x7f13e1ec5dd0>"
            ]
          },
          "metadata": {
            "tags": []
          },
          "execution_count": 127
        },
        {
          "output_type": "display_data",
          "data": {
            "image/png": "[encoded data removed]",
            "text/plain": [
              "<Figure size 1440x1440 with 1 Axes>"
            ]
          },
          "metadata": {
            "tags": [],
            "needs_background": "light"
          }
        }
      ]
    },
    {
      "cell_type": "code",
      "metadata": {
        "colab": {
          "base_uri": "https://localhost:8080/",
          "height": 518
        },
        "id": "gQL8LAZgXURj",
        "outputId": "96ea7369-f14f-4ac0-c29d-ab28245b5ea5"
      },
      "source": [
        "# Find null values in the dataset\n",
        "\n",
        "df[df.isna().any(axis=1)]\n"
      ],
      "execution_count": null,
      "outputs": [
        {
          "output_type": "execute_result",
          "data": {
            "text/html": [
              "<div>\n",
              "<style scoped>\n",
              "    .dataframe tbody tr th:only-of-type {\n",
              "        vertical-align: middle;\n",
              "    }\n",
              "\n",
              "    .dataframe tbody tr th {\n",
              "        vertical-align: top;\n",
              "    }\n",
              "\n",
              "    .dataframe thead th {\n",
              "        text-align: right;\n",
              "    }\n",
              "</style>\n",
              "<table border=\"1\" class=\"dataframe\">\n",
              "  <thead>\n",
              "    <tr style=\"text-align: right;\">\n",
              "      <th></th>\n",
              "      <th>Short description</th>\n",
              "      <th>Description</th>\n",
              "      <th>Assignment group</th>\n",
              "    </tr>\n",
              "  </thead>\n",
              "  <tbody>\n",
              "    <tr>\n",
              "      <th>3921</th>\n",
              "      <td>NaN</td>\n",
              "      <td>-user unable  tologin to vpn.\\n-connected to t...</td>\n",
              "      <td>GRP_0</td>\n",
              "    </tr>\n",
              "    <tr>\n",
              "      <th>320</th>\n",
              "      <td>computer in the maintenance dept. is down. ple...</td>\n",
              "      <td>NaN</td>\n",
              "      <td>GRP_3</td>\n",
              "    </tr>\n",
              "    <tr>\n",
              "      <th>2604</th>\n",
              "      <td>NaN</td>\n",
              "      <td>\\n\\nreceived from: ohdrnswl.rezuibdt@gmail.com...</td>\n",
              "      <td>GRP_34</td>\n",
              "    </tr>\n",
              "    <tr>\n",
              "      <th>320</th>\n",
              "      <td>computer in the maintenance dept. is down. ple...</td>\n",
              "      <td>NaN</td>\n",
              "      <td>GRP_3</td>\n",
              "    </tr>\n",
              "    <tr>\n",
              "      <th>2604</th>\n",
              "      <td>NaN</td>\n",
              "      <td>\\n\\nreceived from: ohdrnswl.rezuibdt@gmail.com...</td>\n",
              "      <td>GRP_34</td>\n",
              "    </tr>\n",
              "    <tr>\n",
              "      <th>2604</th>\n",
              "      <td>NaN</td>\n",
              "      <td>\\n\\nreceived from: ohdrnswl.rezuibdt@gmail.com...</td>\n",
              "      <td>GRP_34</td>\n",
              "    </tr>\n",
              "    <tr>\n",
              "      <th>2604</th>\n",
              "      <td>NaN</td>\n",
              "      <td>\\n\\nreceived from: ohdrnswl.rezuibdt@gmail.com...</td>\n",
              "      <td>GRP_34</td>\n",
              "    </tr>\n",
              "    <tr>\n",
              "      <th>2604</th>\n",
              "      <td>NaN</td>\n",
              "      <td>\\n\\nreceived from: ohdrnswl.rezuibdt@gmail.com...</td>\n",
              "      <td>GRP_34</td>\n",
              "    </tr>\n",
              "    <tr>\n",
              "      <th>2604</th>\n",
              "      <td>NaN</td>\n",
              "      <td>\\n\\nreceived from: ohdrnswl.rezuibdt@gmail.com...</td>\n",
              "      <td>GRP_34</td>\n",
              "    </tr>\n",
              "    <tr>\n",
              "      <th>2604</th>\n",
              "      <td>NaN</td>\n",
              "      <td>\\n\\nreceived from: ohdrnswl.rezuibdt@gmail.com...</td>\n",
              "      <td>GRP_34</td>\n",
              "    </tr>\n",
              "    <tr>\n",
              "      <th>2604</th>\n",
              "      <td>NaN</td>\n",
              "      <td>\\n\\nreceived from: ohdrnswl.rezuibdt@gmail.com...</td>\n",
              "      <td>GRP_34</td>\n",
              "    </tr>\n",
              "    <tr>\n",
              "      <th>2604</th>\n",
              "      <td>NaN</td>\n",
              "      <td>\\n\\nreceived from: ohdrnswl.rezuibdt@gmail.com...</td>\n",
              "      <td>GRP_34</td>\n",
              "    </tr>\n",
              "    <tr>\n",
              "      <th>2604</th>\n",
              "      <td>NaN</td>\n",
              "      <td>\\n\\nreceived from: ohdrnswl.rezuibdt@gmail.com...</td>\n",
              "      <td>GRP_34</td>\n",
              "    </tr>\n",
              "    <tr>\n",
              "      <th>2604</th>\n",
              "      <td>NaN</td>\n",
              "      <td>\\n\\nreceived from: ohdrnswl.rezuibdt@gmail.com...</td>\n",
              "      <td>GRP_34</td>\n",
              "    </tr>\n",
              "    <tr>\n",
              "      <th>2604</th>\n",
              "      <td>NaN</td>\n",
              "      <td>\\n\\nreceived from: ohdrnswl.rezuibdt@gmail.com...</td>\n",
              "      <td>GRP_34</td>\n",
              "    </tr>\n",
              "  </tbody>\n",
              "</table>\n",
              "</div>"
            ],
            "text/plain": [
              "                                      Short description  ... Assignment group\n",
              "3921                                                NaN  ...            GRP_0\n",
              "320   computer in the maintenance dept. is down. ple...  ...            GRP_3\n",
              "2604                                                NaN  ...           GRP_34\n",
              "320   computer in the maintenance dept. is down. ple...  ...            GRP_3\n",
              "2604                                                NaN  ...           GRP_34\n",
              "2604                                                NaN  ...           GRP_34\n",
              "2604                                                NaN  ...           GRP_34\n",
              "2604                                                NaN  ...           GRP_34\n",
              "2604                                                NaN  ...           GRP_34\n",
              "2604                                                NaN  ...           GRP_34\n",
              "2604                                                NaN  ...           GRP_34\n",
              "2604                                                NaN  ...           GRP_34\n",
              "2604                                                NaN  ...           GRP_34\n",
              "2604                                                NaN  ...           GRP_34\n",
              "2604                                                NaN  ...           GRP_34\n",
              "\n",
              "[15 rows x 3 columns]"
            ]
          },
          "metadata": {
            "tags": []
          },
          "execution_count": 128
        }
      ]
    },
    {
      "cell_type": "code",
      "metadata": {
        "id": "AM9ZoElPXZ9V"
      },
      "source": [
        "# Replace Null values with any stopword\n",
        "\n",
        "df['Short description'].fillna('the', inplace=True)\n",
        "df['Description'].fillna('the', inplace=True)\n"
      ],
      "execution_count": null,
      "outputs": []
    },
    {
      "cell_type": "code",
      "metadata": {
        "id": "lxwkBFJbXg7F"
      },
      "source": [
        "\n",
        "# Change to lowercase\n",
        "df['Short description'] = df['Short description'].map(lambda x: x.lower())\n",
        "df['Description'] = df['Description'].map(lambda x: x.lower())"
      ],
      "execution_count": null,
      "outputs": []
    },
    {
      "cell_type": "code",
      "metadata": {
        "id": "rLBHY8fUXl3n"
      },
      "source": [
        "## Convert categories into unique codes\n",
        "\n",
        "df['Category'] = df['Assignment group'].astype('category').cat.codes"
      ],
      "execution_count": null,
      "outputs": []
    },
    {
      "cell_type": "code",
      "metadata": {
        "id": "diQHf_liXuqm"
      },
      "source": [
        "df = df.drop(['Assignment group'], axis=1)\n"
      ],
      "execution_count": null,
      "outputs": []
    },
    {
      "cell_type": "code",
      "metadata": {
        "id": "F5KmmXSiXwou",
        "colab": {
          "base_uri": "https://localhost:8080/",
          "height": 205
        },
        "outputId": "afecd8a7-acb8-441f-89d4-814273d24168"
      },
      "source": [
        "df.head()"
      ],
      "execution_count": null,
      "outputs": [
        {
          "output_type": "execute_result",
          "data": {
            "text/html": [
              "<div>\n",
              "<style scoped>\n",
              "    .dataframe tbody tr th:only-of-type {\n",
              "        vertical-align: middle;\n",
              "    }\n",
              "\n",
              "    .dataframe tbody tr th {\n",
              "        vertical-align: top;\n",
              "    }\n",
              "\n",
              "    .dataframe thead th {\n",
              "        text-align: right;\n",
              "    }\n",
              "</style>\n",
              "<table border=\"1\" class=\"dataframe\">\n",
              "  <thead>\n",
              "    <tr style=\"text-align: right;\">\n",
              "      <th></th>\n",
              "      <th>Short description</th>\n",
              "      <th>Description</th>\n",
              "      <th>Category</th>\n",
              "    </tr>\n",
              "  </thead>\n",
              "  <tbody>\n",
              "    <tr>\n",
              "      <th>1822</th>\n",
              "      <td>erp sid_37 password reset</td>\n",
              "      <td>erp sid_37 password reset</td>\n",
              "      <td>0</td>\n",
              "    </tr>\n",
              "    <tr>\n",
              "      <th>3922</th>\n",
              "      <td>vpn login issue.</td>\n",
              "      <td>vpn login issue.\\n-user unable  tologin to vpn...</td>\n",
              "      <td>0</td>\n",
              "    </tr>\n",
              "    <tr>\n",
              "      <th>4173</th>\n",
              "      <td>erp sid_34 account locked.</td>\n",
              "      <td>erp sid_34 account locked.</td>\n",
              "      <td>0</td>\n",
              "    </tr>\n",
              "    <tr>\n",
              "      <th>497</th>\n",
              "      <td>backup on company provided mobile phone</td>\n",
              "      <td>backup on company provided mobile phone</td>\n",
              "      <td>0</td>\n",
              "    </tr>\n",
              "    <tr>\n",
              "      <th>4734</th>\n",
              "      <td>reset the password for mobaidfx gviwlsrm on er...</td>\n",
              "      <td>passwort zurã¼cksetzen -</td>\n",
              "      <td>0</td>\n",
              "    </tr>\n",
              "  </tbody>\n",
              "</table>\n",
              "</div>"
            ],
            "text/plain": [
              "                                      Short description  ... Category\n",
              "1822                          erp sid_37 password reset  ...        0\n",
              "3922                                   vpn login issue.  ...        0\n",
              "4173                         erp sid_34 account locked.  ...        0\n",
              "497             backup on company provided mobile phone  ...        0\n",
              "4734  reset the password for mobaidfx gviwlsrm on er...  ...        0\n",
              "\n",
              "[5 rows x 3 columns]"
            ]
          },
          "metadata": {
            "tags": []
          },
          "execution_count": 133
        }
      ]
    },
    {
      "cell_type": "code",
      "metadata": {
        "id": "CWgEPsmcX0nA"
      },
      "source": [
        "# Remove email id from description\n",
        "\n",
        "import re\n",
        "df['Description'] = df['Description'].apply((lambda x: re.sub('received from:.\\S+@\\S+','',x)))"
      ],
      "execution_count": null,
      "outputs": []
    },
    {
      "cell_type": "code",
      "metadata": {
        "id": "I3KbB7c_X6xK"
      },
      "source": [
        "# Remove words that are not relevant\n",
        "\n",
        "df['Description'] = df['Description'].apply((lambda x: re.sub('hi|hello|team|thanks|please','',x)))"
      ],
      "execution_count": null,
      "outputs": []
    },
    {
      "cell_type": "code",
      "metadata": {
        "id": "YMVhMm2hX-al",
        "colab": {
          "base_uri": "https://localhost:8080/",
          "height": 205
        },
        "outputId": "a8b48755-1496-46f5-903a-7a9fbe13eb65"
      },
      "source": [
        "df.head()\n"
      ],
      "execution_count": null,
      "outputs": [
        {
          "output_type": "execute_result",
          "data": {
            "text/html": [
              "<div>\n",
              "<style scoped>\n",
              "    .dataframe tbody tr th:only-of-type {\n",
              "        vertical-align: middle;\n",
              "    }\n",
              "\n",
              "    .dataframe tbody tr th {\n",
              "        vertical-align: top;\n",
              "    }\n",
              "\n",
              "    .dataframe thead th {\n",
              "        text-align: right;\n",
              "    }\n",
              "</style>\n",
              "<table border=\"1\" class=\"dataframe\">\n",
              "  <thead>\n",
              "    <tr style=\"text-align: right;\">\n",
              "      <th></th>\n",
              "      <th>Short description</th>\n",
              "      <th>Description</th>\n",
              "      <th>Category</th>\n",
              "    </tr>\n",
              "  </thead>\n",
              "  <tbody>\n",
              "    <tr>\n",
              "      <th>1822</th>\n",
              "      <td>erp sid_37 password reset</td>\n",
              "      <td>erp sid_37 password reset</td>\n",
              "      <td>0</td>\n",
              "    </tr>\n",
              "    <tr>\n",
              "      <th>3922</th>\n",
              "      <td>vpn login issue.</td>\n",
              "      <td>vpn login issue.\\n-user unable  tologin to vpn...</td>\n",
              "      <td>0</td>\n",
              "    </tr>\n",
              "    <tr>\n",
              "      <th>4173</th>\n",
              "      <td>erp sid_34 account locked.</td>\n",
              "      <td>erp sid_34 account locked.</td>\n",
              "      <td>0</td>\n",
              "    </tr>\n",
              "    <tr>\n",
              "      <th>497</th>\n",
              "      <td>backup on company provided mobile phone</td>\n",
              "      <td>backup on company provided mobile phone</td>\n",
              "      <td>0</td>\n",
              "    </tr>\n",
              "    <tr>\n",
              "      <th>4734</th>\n",
              "      <td>reset the password for mobaidfx gviwlsrm on er...</td>\n",
              "      <td>passwort zurã¼cksetzen -</td>\n",
              "      <td>0</td>\n",
              "    </tr>\n",
              "  </tbody>\n",
              "</table>\n",
              "</div>"
            ],
            "text/plain": [
              "                                      Short description  ... Category\n",
              "1822                          erp sid_37 password reset  ...        0\n",
              "3922                                   vpn login issue.  ...        0\n",
              "4173                         erp sid_34 account locked.  ...        0\n",
              "497             backup on company provided mobile phone  ...        0\n",
              "4734  reset the password for mobaidfx gviwlsrm on er...  ...        0\n",
              "\n",
              "[5 rows x 3 columns]"
            ]
          },
          "metadata": {
            "tags": []
          },
          "execution_count": 136
        }
      ]
    },
    {
      "cell_type": "code",
      "metadata": {
        "id": "n-K2Rjq3YCRB"
      },
      "source": [
        "# Remove numbers\n",
        "\n",
        "import re\n",
        "\n",
        "df['Short description'] = df['Short description'].map(lambda x: re.sub(r'\\d+', '', x))\n",
        "df['Description'] = df['Description'].map(lambda x: re.sub(r'\\d+', '', x))"
      ],
      "execution_count": null,
      "outputs": []
    },
    {
      "cell_type": "code",
      "metadata": {
        "id": "ZpCZGU9LYGt_",
        "colab": {
          "base_uri": "https://localhost:8080/",
          "height": 205
        },
        "outputId": "81e0d9fb-d7b8-40bb-895d-95c7f61ed82b"
      },
      "source": [
        "df.head()\n"
      ],
      "execution_count": null,
      "outputs": [
        {
          "output_type": "execute_result",
          "data": {
            "text/html": [
              "<div>\n",
              "<style scoped>\n",
              "    .dataframe tbody tr th:only-of-type {\n",
              "        vertical-align: middle;\n",
              "    }\n",
              "\n",
              "    .dataframe tbody tr th {\n",
              "        vertical-align: top;\n",
              "    }\n",
              "\n",
              "    .dataframe thead th {\n",
              "        text-align: right;\n",
              "    }\n",
              "</style>\n",
              "<table border=\"1\" class=\"dataframe\">\n",
              "  <thead>\n",
              "    <tr style=\"text-align: right;\">\n",
              "      <th></th>\n",
              "      <th>Short description</th>\n",
              "      <th>Description</th>\n",
              "      <th>Category</th>\n",
              "    </tr>\n",
              "  </thead>\n",
              "  <tbody>\n",
              "    <tr>\n",
              "      <th>1822</th>\n",
              "      <td>erp sid_ password reset</td>\n",
              "      <td>erp sid_ password reset</td>\n",
              "      <td>0</td>\n",
              "    </tr>\n",
              "    <tr>\n",
              "      <th>3922</th>\n",
              "      <td>vpn login issue.</td>\n",
              "      <td>vpn login issue.\\n-user unable  tologin to vpn...</td>\n",
              "      <td>0</td>\n",
              "    </tr>\n",
              "    <tr>\n",
              "      <th>4173</th>\n",
              "      <td>erp sid_ account locked.</td>\n",
              "      <td>erp sid_ account locked.</td>\n",
              "      <td>0</td>\n",
              "    </tr>\n",
              "    <tr>\n",
              "      <th>497</th>\n",
              "      <td>backup on company provided mobile phone</td>\n",
              "      <td>backup on company provided mobile phone</td>\n",
              "      <td>0</td>\n",
              "    </tr>\n",
              "    <tr>\n",
              "      <th>4734</th>\n",
              "      <td>reset the password for mobaidfx gviwlsrm on er...</td>\n",
              "      <td>passwort zurã¼cksetzen -</td>\n",
              "      <td>0</td>\n",
              "    </tr>\n",
              "  </tbody>\n",
              "</table>\n",
              "</div>"
            ],
            "text/plain": [
              "                                      Short description  ... Category\n",
              "1822                            erp sid_ password reset  ...        0\n",
              "3922                                   vpn login issue.  ...        0\n",
              "4173                           erp sid_ account locked.  ...        0\n",
              "497             backup on company provided mobile phone  ...        0\n",
              "4734  reset the password for mobaidfx gviwlsrm on er...  ...        0\n",
              "\n",
              "[5 rows x 3 columns]"
            ]
          },
          "metadata": {
            "tags": []
          },
          "execution_count": 138
        }
      ]
    },
    {
      "cell_type": "code",
      "metadata": {
        "id": "q0YRp9fGYKKU"
      },
      "source": [
        "# Remove Punctuation\n",
        "\n",
        "import string\n",
        "\n",
        "df['Short description']  = df['Short description'].map(lambda x: x.translate(x.maketrans('', '', string.punctuation)))\n",
        "df['Description']  = df['Description'].map(lambda x: x.translate(x.maketrans('', '', string.punctuation)))"
      ],
      "execution_count": null,
      "outputs": []
    },
    {
      "cell_type": "code",
      "metadata": {
        "id": "FTz8EhfeYRW_",
        "colab": {
          "base_uri": "https://localhost:8080/",
          "height": 205
        },
        "outputId": "c038dac4-d0a1-49e4-e878-648edcc5defe"
      },
      "source": [
        "df.head()\n"
      ],
      "execution_count": null,
      "outputs": [
        {
          "output_type": "execute_result",
          "data": {
            "text/html": [
              "<div>\n",
              "<style scoped>\n",
              "    .dataframe tbody tr th:only-of-type {\n",
              "        vertical-align: middle;\n",
              "    }\n",
              "\n",
              "    .dataframe tbody tr th {\n",
              "        vertical-align: top;\n",
              "    }\n",
              "\n",
              "    .dataframe thead th {\n",
              "        text-align: right;\n",
              "    }\n",
              "</style>\n",
              "<table border=\"1\" class=\"dataframe\">\n",
              "  <thead>\n",
              "    <tr style=\"text-align: right;\">\n",
              "      <th></th>\n",
              "      <th>Short description</th>\n",
              "      <th>Description</th>\n",
              "      <th>Category</th>\n",
              "    </tr>\n",
              "  </thead>\n",
              "  <tbody>\n",
              "    <tr>\n",
              "      <th>1822</th>\n",
              "      <td>erp sid password reset</td>\n",
              "      <td>erp sid password reset</td>\n",
              "      <td>0</td>\n",
              "    </tr>\n",
              "    <tr>\n",
              "      <th>3922</th>\n",
              "      <td>vpn login issue</td>\n",
              "      <td>vpn login issue\\nuser unable  tologin to vpn\\n...</td>\n",
              "      <td>0</td>\n",
              "    </tr>\n",
              "    <tr>\n",
              "      <th>4173</th>\n",
              "      <td>erp sid account locked</td>\n",
              "      <td>erp sid account locked</td>\n",
              "      <td>0</td>\n",
              "    </tr>\n",
              "    <tr>\n",
              "      <th>497</th>\n",
              "      <td>backup on company provided mobile phone</td>\n",
              "      <td>backup on company provided mobile phone</td>\n",
              "      <td>0</td>\n",
              "    </tr>\n",
              "    <tr>\n",
              "      <th>4734</th>\n",
              "      <td>reset the password for mobaidfx gviwlsrm on er...</td>\n",
              "      <td>passwort zurã¼cksetzen</td>\n",
              "      <td>0</td>\n",
              "    </tr>\n",
              "  </tbody>\n",
              "</table>\n",
              "</div>"
            ],
            "text/plain": [
              "                                      Short description  ... Category\n",
              "1822                             erp sid password reset  ...        0\n",
              "3922                                    vpn login issue  ...        0\n",
              "4173                             erp sid account locked  ...        0\n",
              "497             backup on company provided mobile phone  ...        0\n",
              "4734  reset the password for mobaidfx gviwlsrm on er...  ...        0\n",
              "\n",
              "[5 rows x 3 columns]"
            ]
          },
          "metadata": {
            "tags": []
          },
          "execution_count": 140
        }
      ]
    },
    {
      "cell_type": "code",
      "metadata": {
        "id": "rJ_wRsjaYUwK"
      },
      "source": [
        "# Remove white spaces\n",
        "\n",
        "df['Short description'] = df['Short description'].map(lambda x: x.strip())\n",
        "df['Description'] = df['Description'].map(lambda x: x.strip())"
      ],
      "execution_count": null,
      "outputs": []
    },
    {
      "cell_type": "code",
      "metadata": {
        "id": "adoOYXyoYYsI",
        "colab": {
          "base_uri": "https://localhost:8080/",
          "height": 205
        },
        "outputId": "2e754762-4634-40fa-f423-a2a50b2ea341"
      },
      "source": [
        "df.head()\n"
      ],
      "execution_count": null,
      "outputs": [
        {
          "output_type": "execute_result",
          "data": {
            "text/html": [
              "<div>\n",
              "<style scoped>\n",
              "    .dataframe tbody tr th:only-of-type {\n",
              "        vertical-align: middle;\n",
              "    }\n",
              "\n",
              "    .dataframe tbody tr th {\n",
              "        vertical-align: top;\n",
              "    }\n",
              "\n",
              "    .dataframe thead th {\n",
              "        text-align: right;\n",
              "    }\n",
              "</style>\n",
              "<table border=\"1\" class=\"dataframe\">\n",
              "  <thead>\n",
              "    <tr style=\"text-align: right;\">\n",
              "      <th></th>\n",
              "      <th>Short description</th>\n",
              "      <th>Description</th>\n",
              "      <th>Category</th>\n",
              "    </tr>\n",
              "  </thead>\n",
              "  <tbody>\n",
              "    <tr>\n",
              "      <th>1822</th>\n",
              "      <td>erp sid password reset</td>\n",
              "      <td>erp sid password reset</td>\n",
              "      <td>0</td>\n",
              "    </tr>\n",
              "    <tr>\n",
              "      <th>3922</th>\n",
              "      <td>vpn login issue</td>\n",
              "      <td>vpn login issue\\nuser unable  tologin to vpn\\n...</td>\n",
              "      <td>0</td>\n",
              "    </tr>\n",
              "    <tr>\n",
              "      <th>4173</th>\n",
              "      <td>erp sid account locked</td>\n",
              "      <td>erp sid account locked</td>\n",
              "      <td>0</td>\n",
              "    </tr>\n",
              "    <tr>\n",
              "      <th>497</th>\n",
              "      <td>backup on company provided mobile phone</td>\n",
              "      <td>backup on company provided mobile phone</td>\n",
              "      <td>0</td>\n",
              "    </tr>\n",
              "    <tr>\n",
              "      <th>4734</th>\n",
              "      <td>reset the password for mobaidfx gviwlsrm on er...</td>\n",
              "      <td>passwort zurã¼cksetzen</td>\n",
              "      <td>0</td>\n",
              "    </tr>\n",
              "  </tbody>\n",
              "</table>\n",
              "</div>"
            ],
            "text/plain": [
              "                                      Short description  ... Category\n",
              "1822                             erp sid password reset  ...        0\n",
              "3922                                    vpn login issue  ...        0\n",
              "4173                             erp sid account locked  ...        0\n",
              "497             backup on company provided mobile phone  ...        0\n",
              "4734  reset the password for mobaidfx gviwlsrm on er...  ...        0\n",
              "\n",
              "[5 rows x 3 columns]"
            ]
          },
          "metadata": {
            "tags": []
          },
          "execution_count": 142
        }
      ]
    },
    {
      "cell_type": "code",
      "metadata": {
        "id": "yKKFHKTTYd9k"
      },
      "source": [
        "df['Description'] = df['Description'].astype(str)\n"
      ],
      "execution_count": null,
      "outputs": []
    },
    {
      "cell_type": "code",
      "metadata": {
        "id": "94VXyoBPYh36"
      },
      "source": [
        "df_description = df.Description.values\n"
      ],
      "execution_count": null,
      "outputs": []
    },
    {
      "cell_type": "code",
      "metadata": {
        "id": "C1VYGxQ2Yjs6",
        "colab": {
          "base_uri": "https://localhost:8080/"
        },
        "outputId": "38fa4ce2-a03e-4960-e879-444e2a6af955"
      },
      "source": [
        "import nltk\n",
        "nltk.download('punkt')"
      ],
      "execution_count": null,
      "outputs": [
        {
          "output_type": "stream",
          "text": [
            "[nltk_data] Downloading package punkt to /root/nltk_data...\n",
            "[nltk_data]   Package punkt is already up-to-date!\n"
          ],
          "name": "stdout"
        },
        {
          "output_type": "execute_result",
          "data": {
            "text/plain": [
              "True"
            ]
          },
          "metadata": {
            "tags": []
          },
          "execution_count": 145
        }
      ]
    },
    {
      "cell_type": "code",
      "metadata": {
        "id": "fDsf6YmfYnm-"
      },
      "source": [
        "from nltk import word_tokenize\n",
        "\n",
        "df['Short description'] = df['Short description'].map(lambda x: word_tokenize(x))\n",
        "df['Description'] = df['Description'].map(lambda x: word_tokenize(x))"
      ],
      "execution_count": null,
      "outputs": []
    },
    {
      "cell_type": "code",
      "metadata": {
        "id": "aUFTarcxYxB2",
        "colab": {
          "base_uri": "https://localhost:8080/",
          "height": 205
        },
        "outputId": "d5625a8e-0d5c-4f56-c4fc-06dbff5ca475"
      },
      "source": [
        "df.head()"
      ],
      "execution_count": null,
      "outputs": [
        {
          "output_type": "execute_result",
          "data": {
            "text/html": [
              "<div>\n",
              "<style scoped>\n",
              "    .dataframe tbody tr th:only-of-type {\n",
              "        vertical-align: middle;\n",
              "    }\n",
              "\n",
              "    .dataframe tbody tr th {\n",
              "        vertical-align: top;\n",
              "    }\n",
              "\n",
              "    .dataframe thead th {\n",
              "        text-align: right;\n",
              "    }\n",
              "</style>\n",
              "<table border=\"1\" class=\"dataframe\">\n",
              "  <thead>\n",
              "    <tr style=\"text-align: right;\">\n",
              "      <th></th>\n",
              "      <th>Short description</th>\n",
              "      <th>Description</th>\n",
              "      <th>Category</th>\n",
              "    </tr>\n",
              "  </thead>\n",
              "  <tbody>\n",
              "    <tr>\n",
              "      <th>1822</th>\n",
              "      <td>[erp, sid, password, reset]</td>\n",
              "      <td>[erp, sid, password, reset]</td>\n",
              "      <td>0</td>\n",
              "    </tr>\n",
              "    <tr>\n",
              "      <th>3922</th>\n",
              "      <td>[vpn, login, issue]</td>\n",
              "      <td>[vpn, login, issue, user, unable, tologin, to,...</td>\n",
              "      <td>0</td>\n",
              "    </tr>\n",
              "    <tr>\n",
              "      <th>4173</th>\n",
              "      <td>[erp, sid, account, locked]</td>\n",
              "      <td>[erp, sid, account, locked]</td>\n",
              "      <td>0</td>\n",
              "    </tr>\n",
              "    <tr>\n",
              "      <th>497</th>\n",
              "      <td>[backup, on, company, provided, mobile, phone]</td>\n",
              "      <td>[backup, on, company, provided, mobile, phone]</td>\n",
              "      <td>0</td>\n",
              "    </tr>\n",
              "    <tr>\n",
              "      <th>4734</th>\n",
              "      <td>[reset, the, password, for, mobaidfx, gviwlsrm...</td>\n",
              "      <td>[passwort, zurã¼cksetzen]</td>\n",
              "      <td>0</td>\n",
              "    </tr>\n",
              "  </tbody>\n",
              "</table>\n",
              "</div>"
            ],
            "text/plain": [
              "                                      Short description  ... Category\n",
              "1822                        [erp, sid, password, reset]  ...        0\n",
              "3922                                [vpn, login, issue]  ...        0\n",
              "4173                        [erp, sid, account, locked]  ...        0\n",
              "497      [backup, on, company, provided, mobile, phone]  ...        0\n",
              "4734  [reset, the, password, for, mobaidfx, gviwlsrm...  ...        0\n",
              "\n",
              "[5 rows x 3 columns]"
            ]
          },
          "metadata": {
            "tags": []
          },
          "execution_count": 147
        }
      ]
    },
    {
      "cell_type": "code",
      "metadata": {
        "id": "IZxMdMetY0KC",
        "colab": {
          "base_uri": "https://localhost:8080/"
        },
        "outputId": "485e65eb-3740-461e-9918-874f3f439531"
      },
      "source": [
        "\n",
        "nltk.download('stopwords')"
      ],
      "execution_count": null,
      "outputs": [
        {
          "output_type": "stream",
          "text": [
            "[nltk_data] Downloading package stopwords to /root/nltk_data...\n",
            "[nltk_data]   Package stopwords is already up-to-date!\n"
          ],
          "name": "stdout"
        },
        {
          "output_type": "execute_result",
          "data": {
            "text/plain": [
              "True"
            ]
          },
          "metadata": {
            "tags": []
          },
          "execution_count": 148
        }
      ]
    },
    {
      "cell_type": "code",
      "metadata": {
        "id": "EqZckkc4Y4F-"
      },
      "source": [
        "# filter out stop words\n",
        "\n",
        "from nltk.corpus import stopwords\n",
        "stop_words = set(stopwords.words('english'))\n",
        "df['Short description'] = df['Short description'].map(lambda x: [w for w in x if not w in stop_words])\n",
        "df['Description'] = df['Description'].map(lambda x: [w for w in x if not w in stop_words])"
      ],
      "execution_count": null,
      "outputs": []
    },
    {
      "cell_type": "code",
      "metadata": {
        "id": "FYwAOXIOY8fK",
        "colab": {
          "base_uri": "https://localhost:8080/",
          "height": 205
        },
        "outputId": "79c7eaf5-e80c-47b9-8803-0908234917f9"
      },
      "source": [
        "df.head()"
      ],
      "execution_count": null,
      "outputs": [
        {
          "output_type": "execute_result",
          "data": {
            "text/html": [
              "<div>\n",
              "<style scoped>\n",
              "    .dataframe tbody tr th:only-of-type {\n",
              "        vertical-align: middle;\n",
              "    }\n",
              "\n",
              "    .dataframe tbody tr th {\n",
              "        vertical-align: top;\n",
              "    }\n",
              "\n",
              "    .dataframe thead th {\n",
              "        text-align: right;\n",
              "    }\n",
              "</style>\n",
              "<table border=\"1\" class=\"dataframe\">\n",
              "  <thead>\n",
              "    <tr style=\"text-align: right;\">\n",
              "      <th></th>\n",
              "      <th>Short description</th>\n",
              "      <th>Description</th>\n",
              "      <th>Category</th>\n",
              "    </tr>\n",
              "  </thead>\n",
              "  <tbody>\n",
              "    <tr>\n",
              "      <th>1822</th>\n",
              "      <td>[erp, sid, password, reset]</td>\n",
              "      <td>[erp, sid, password, reset]</td>\n",
              "      <td>0</td>\n",
              "    </tr>\n",
              "    <tr>\n",
              "      <th>3922</th>\n",
              "      <td>[vpn, login, issue]</td>\n",
              "      <td>[vpn, login, issue, user, unable, tologin, vpn...</td>\n",
              "      <td>0</td>\n",
              "    </tr>\n",
              "    <tr>\n",
              "      <th>4173</th>\n",
              "      <td>[erp, sid, account, locked]</td>\n",
              "      <td>[erp, sid, account, locked]</td>\n",
              "      <td>0</td>\n",
              "    </tr>\n",
              "    <tr>\n",
              "      <th>497</th>\n",
              "      <td>[backup, company, provided, mobile, phone]</td>\n",
              "      <td>[backup, company, provided, mobile, phone]</td>\n",
              "      <td>0</td>\n",
              "    </tr>\n",
              "    <tr>\n",
              "      <th>4734</th>\n",
              "      <td>[reset, password, mobaidfx, gviwlsrm, erp, pro...</td>\n",
              "      <td>[passwort, zurã¼cksetzen]</td>\n",
              "      <td>0</td>\n",
              "    </tr>\n",
              "  </tbody>\n",
              "</table>\n",
              "</div>"
            ],
            "text/plain": [
              "                                      Short description  ... Category\n",
              "1822                        [erp, sid, password, reset]  ...        0\n",
              "3922                                [vpn, login, issue]  ...        0\n",
              "4173                        [erp, sid, account, locked]  ...        0\n",
              "497          [backup, company, provided, mobile, phone]  ...        0\n",
              "4734  [reset, password, mobaidfx, gviwlsrm, erp, pro...  ...        0\n",
              "\n",
              "[5 rows x 3 columns]"
            ]
          },
          "metadata": {
            "tags": []
          },
          "execution_count": 150
        }
      ]
    },
    {
      "cell_type": "code",
      "metadata": {
        "id": "QJGkupGHZUem",
        "colab": {
          "base_uri": "https://localhost:8080/"
        },
        "outputId": "f03d27fc-9abc-461e-d755-454673dd49e9"
      },
      "source": [
        "nltk.download('wordnet')"
      ],
      "execution_count": null,
      "outputs": [
        {
          "output_type": "stream",
          "text": [
            "[nltk_data] Downloading package wordnet to /root/nltk_data...\n",
            "[nltk_data]   Package wordnet is already up-to-date!\n"
          ],
          "name": "stdout"
        },
        {
          "output_type": "execute_result",
          "data": {
            "text/plain": [
              "True"
            ]
          },
          "metadata": {
            "tags": []
          },
          "execution_count": 151
        }
      ]
    },
    {
      "cell_type": "code",
      "metadata": {
        "id": "hRCOhrvsZYIe"
      },
      "source": [
        "from nltk.stem import WordNetLemmatizer\n",
        "lem = WordNetLemmatizer()\n",
        "df['Short description'] = df['Short description'].map(lambda x: [lem.lemmatize(word,\"v\") for word in x])\n",
        "df['Description'] = df['Description'].map(lambda x: [lem.lemmatize(word,\"v\") for word in x])"
      ],
      "execution_count": null,
      "outputs": []
    },
    {
      "cell_type": "code",
      "metadata": {
        "id": "VcRxlBUXZgog",
        "colab": {
          "base_uri": "https://localhost:8080/",
          "height": 205
        },
        "outputId": "f1f61c21-1beb-4215-8caa-43daa075fb0d"
      },
      "source": [
        "df.head()\n"
      ],
      "execution_count": null,
      "outputs": [
        {
          "output_type": "execute_result",
          "data": {
            "text/html": [
              "<div>\n",
              "<style scoped>\n",
              "    .dataframe tbody tr th:only-of-type {\n",
              "        vertical-align: middle;\n",
              "    }\n",
              "\n",
              "    .dataframe tbody tr th {\n",
              "        vertical-align: top;\n",
              "    }\n",
              "\n",
              "    .dataframe thead th {\n",
              "        text-align: right;\n",
              "    }\n",
              "</style>\n",
              "<table border=\"1\" class=\"dataframe\">\n",
              "  <thead>\n",
              "    <tr style=\"text-align: right;\">\n",
              "      <th></th>\n",
              "      <th>Short description</th>\n",
              "      <th>Description</th>\n",
              "      <th>Category</th>\n",
              "    </tr>\n",
              "  </thead>\n",
              "  <tbody>\n",
              "    <tr>\n",
              "      <th>1822</th>\n",
              "      <td>[erp, sid, password, reset]</td>\n",
              "      <td>[erp, sid, password, reset]</td>\n",
              "      <td>0</td>\n",
              "    </tr>\n",
              "    <tr>\n",
              "      <th>3922</th>\n",
              "      <td>[vpn, login, issue]</td>\n",
              "      <td>[vpn, login, issue, user, unable, tologin, vpn...</td>\n",
              "      <td>0</td>\n",
              "    </tr>\n",
              "    <tr>\n",
              "      <th>4173</th>\n",
              "      <td>[erp, sid, account, lock]</td>\n",
              "      <td>[erp, sid, account, lock]</td>\n",
              "      <td>0</td>\n",
              "    </tr>\n",
              "    <tr>\n",
              "      <th>497</th>\n",
              "      <td>[backup, company, provide, mobile, phone]</td>\n",
              "      <td>[backup, company, provide, mobile, phone]</td>\n",
              "      <td>0</td>\n",
              "    </tr>\n",
              "    <tr>\n",
              "      <th>4734</th>\n",
              "      <td>[reset, password, mobaidfx, gviwlsrm, erp, pro...</td>\n",
              "      <td>[passwort, zurã¼cksetzen]</td>\n",
              "      <td>0</td>\n",
              "    </tr>\n",
              "  </tbody>\n",
              "</table>\n",
              "</div>"
            ],
            "text/plain": [
              "                                      Short description  ... Category\n",
              "1822                        [erp, sid, password, reset]  ...        0\n",
              "3922                                [vpn, login, issue]  ...        0\n",
              "4173                          [erp, sid, account, lock]  ...        0\n",
              "497           [backup, company, provide, mobile, phone]  ...        0\n",
              "4734  [reset, password, mobaidfx, gviwlsrm, erp, pro...  ...        0\n",
              "\n",
              "[5 rows x 3 columns]"
            ]
          },
          "metadata": {
            "tags": []
          },
          "execution_count": 153
        }
      ]
    },
    {
      "cell_type": "code",
      "metadata": {
        "id": "UJ7Kx_Q9ZkmE"
      },
      "source": [
        "from wordcloud import WordCloud\n",
        "\n",
        "val = str(df.Description)\n",
        "\n",
        "wordcloud = WordCloud(width = 800, height = 800, \n",
        "                background_color ='white', \n",
        "                stopwords = stop_words, \n",
        "                min_font_size = 10).generate(val)"
      ],
      "execution_count": null,
      "outputs": []
    },
    {
      "cell_type": "code",
      "metadata": {
        "id": "QTNq515kZomY",
        "colab": {
          "base_uri": "https://localhost:8080/",
          "height": 607
        },
        "outputId": "6b393ebd-7dc1-409e-be5a-1f209a8d32e5"
      },
      "source": [
        "# plot the WordCloud image       \n",
        "\n",
        "plt.figure(figsize = (8, 8), facecolor = None) \n",
        "plt.imshow(wordcloud) \n",
        "plt.axis(\"off\") \n",
        "plt.tight_layout(pad = 0) \n",
        "  \n",
        "plt.show()"
      ],
      "execution_count": null,
      "outputs": [
        {
          "output_type": "display_data",
          "data": {
            "image/png": "[encoded data removed]",
            "text/plain": [
              "<Figure size 576x576 with 1 Axes>"
            ]
          },
          "metadata": {
            "tags": [],
            "needs_background": "light"
          }
        }
      ]
    },
    {
      "cell_type": "code",
      "metadata": {
        "id": "_13LA3YRZsY_",
        "colab": {
          "base_uri": "https://localhost:8080/",
          "height": 205
        },
        "outputId": "ab3f482f-ee86-43c8-a3db-05893a2a5043"
      },
      "source": [
        "df.head()"
      ],
      "execution_count": null,
      "outputs": [
        {
          "output_type": "execute_result",
          "data": {
            "text/html": [
              "<div>\n",
              "<style scoped>\n",
              "    .dataframe tbody tr th:only-of-type {\n",
              "        vertical-align: middle;\n",
              "    }\n",
              "\n",
              "    .dataframe tbody tr th {\n",
              "        vertical-align: top;\n",
              "    }\n",
              "\n",
              "    .dataframe thead th {\n",
              "        text-align: right;\n",
              "    }\n",
              "</style>\n",
              "<table border=\"1\" class=\"dataframe\">\n",
              "  <thead>\n",
              "    <tr style=\"text-align: right;\">\n",
              "      <th></th>\n",
              "      <th>Short description</th>\n",
              "      <th>Description</th>\n",
              "      <th>Category</th>\n",
              "    </tr>\n",
              "  </thead>\n",
              "  <tbody>\n",
              "    <tr>\n",
              "      <th>1822</th>\n",
              "      <td>[erp, sid, password, reset]</td>\n",
              "      <td>[erp, sid, password, reset]</td>\n",
              "      <td>0</td>\n",
              "    </tr>\n",
              "    <tr>\n",
              "      <th>3922</th>\n",
              "      <td>[vpn, login, issue]</td>\n",
              "      <td>[vpn, login, issue, user, unable, tologin, vpn...</td>\n",
              "      <td>0</td>\n",
              "    </tr>\n",
              "    <tr>\n",
              "      <th>4173</th>\n",
              "      <td>[erp, sid, account, lock]</td>\n",
              "      <td>[erp, sid, account, lock]</td>\n",
              "      <td>0</td>\n",
              "    </tr>\n",
              "    <tr>\n",
              "      <th>497</th>\n",
              "      <td>[backup, company, provide, mobile, phone]</td>\n",
              "      <td>[backup, company, provide, mobile, phone]</td>\n",
              "      <td>0</td>\n",
              "    </tr>\n",
              "    <tr>\n",
              "      <th>4734</th>\n",
              "      <td>[reset, password, mobaidfx, gviwlsrm, erp, pro...</td>\n",
              "      <td>[passwort, zurã¼cksetzen]</td>\n",
              "      <td>0</td>\n",
              "    </tr>\n",
              "  </tbody>\n",
              "</table>\n",
              "</div>"
            ],
            "text/plain": [
              "                                      Short description  ... Category\n",
              "1822                        [erp, sid, password, reset]  ...        0\n",
              "3922                                [vpn, login, issue]  ...        0\n",
              "4173                          [erp, sid, account, lock]  ...        0\n",
              "497           [backup, company, provide, mobile, phone]  ...        0\n",
              "4734  [reset, password, mobaidfx, gviwlsrm, erp, pro...  ...        0\n",
              "\n",
              "[5 rows x 3 columns]"
            ]
          },
          "metadata": {
            "tags": []
          },
          "execution_count": 156
        }
      ]
    },
    {
      "cell_type": "code",
      "metadata": {
        "id": "ziuXH5m9ZwsZ"
      },
      "source": [
        "# Turn lists back to string\n",
        "\n",
        "df['Short description'] = df['Short description'].map(lambda x: ' '.join(x))\n",
        "df['Description'] = df['Description'].map(lambda x: ' '.join(x))"
      ],
      "execution_count": null,
      "outputs": []
    },
    {
      "cell_type": "code",
      "metadata": {
        "id": "IIy85rmdZ0rW"
      },
      "source": [
        "# Concatenate short description and description columns\n",
        "\n",
        "df['Description'] = df['Short description'].str.cat(df['Description'], sep =\" \")"
      ],
      "execution_count": null,
      "outputs": []
    },
    {
      "cell_type": "code",
      "metadata": {
        "id": "CYtZoJl2Z4xI"
      },
      "source": [
        "df = df.drop(['Short description'], axis=1)\n"
      ],
      "execution_count": null,
      "outputs": []
    },
    {
      "cell_type": "code",
      "metadata": {
        "id": "Cp9VLytfZ-UL"
      },
      "source": [
        "# Find length of the words in description\n",
        "\n",
        "df['Desc_len'] = df['Description'].apply(lambda x: len(x.split(\" \")))"
      ],
      "execution_count": null,
      "outputs": []
    },
    {
      "cell_type": "code",
      "metadata": {
        "id": "CXtlGRsZaCpK",
        "colab": {
          "base_uri": "https://localhost:8080/",
          "height": 205
        },
        "outputId": "09957845-4eef-43bf-b004-4dbc7fc40b1c"
      },
      "source": [
        "df.head()"
      ],
      "execution_count": null,
      "outputs": [
        {
          "output_type": "execute_result",
          "data": {
            "text/html": [
              "<div>\n",
              "<style scoped>\n",
              "    .dataframe tbody tr th:only-of-type {\n",
              "        vertical-align: middle;\n",
              "    }\n",
              "\n",
              "    .dataframe tbody tr th {\n",
              "        vertical-align: top;\n",
              "    }\n",
              "\n",
              "    .dataframe thead th {\n",
              "        text-align: right;\n",
              "    }\n",
              "</style>\n",
              "<table border=\"1\" class=\"dataframe\">\n",
              "  <thead>\n",
              "    <tr style=\"text-align: right;\">\n",
              "      <th></th>\n",
              "      <th>Description</th>\n",
              "      <th>Category</th>\n",
              "      <th>Desc_len</th>\n",
              "    </tr>\n",
              "  </thead>\n",
              "  <tbody>\n",
              "    <tr>\n",
              "      <th>1822</th>\n",
              "      <td>erp sid password reset erp sid password reset</td>\n",
              "      <td>0</td>\n",
              "      <td>8</td>\n",
              "    </tr>\n",
              "    <tr>\n",
              "      <th>3922</th>\n",
              "      <td>vpn login issue vpn login issue user unable to...</td>\n",
              "      <td>0</td>\n",
              "      <td>27</td>\n",
              "    </tr>\n",
              "    <tr>\n",
              "      <th>4173</th>\n",
              "      <td>erp sid account lock erp sid account lock</td>\n",
              "      <td>0</td>\n",
              "      <td>8</td>\n",
              "    </tr>\n",
              "    <tr>\n",
              "      <th>497</th>\n",
              "      <td>backup company provide mobile phone backup com...</td>\n",
              "      <td>0</td>\n",
              "      <td>10</td>\n",
              "    </tr>\n",
              "    <tr>\n",
              "      <th>4734</th>\n",
              "      <td>reset password mobaidfx gviwlsrm erp produktio...</td>\n",
              "      <td>0</td>\n",
              "      <td>9</td>\n",
              "    </tr>\n",
              "  </tbody>\n",
              "</table>\n",
              "</div>"
            ],
            "text/plain": [
              "                                            Description  Category  Desc_len\n",
              "1822      erp sid password reset erp sid password reset         0         8\n",
              "3922  vpn login issue vpn login issue user unable to...         0        27\n",
              "4173          erp sid account lock erp sid account lock         0         8\n",
              "497   backup company provide mobile phone backup com...         0        10\n",
              "4734  reset password mobaidfx gviwlsrm erp produktio...         0         9"
            ]
          },
          "metadata": {
            "tags": []
          },
          "execution_count": 161
        }
      ]
    },
    {
      "cell_type": "code",
      "metadata": {
        "id": "3JkQw3PCaFkL",
        "colab": {
          "base_uri": "https://localhost:8080/"
        },
        "outputId": "58b25b43-00df-40cc-df80-076c6f12b946"
      },
      "source": [
        "# Find maxlen \n",
        "\n",
        "df['Desc_len'].max()"
      ],
      "execution_count": null,
      "outputs": [
        {
          "output_type": "execute_result",
          "data": {
            "text/plain": [
              "899"
            ]
          },
          "metadata": {
            "tags": []
          },
          "execution_count": 162
        }
      ]
    },
    {
      "cell_type": "code",
      "metadata": {
        "id": "hdBHCNy8aIab",
        "colab": {
          "base_uri": "https://localhost:8080/"
        },
        "outputId": "7b7ec547-80b5-41c2-98cf-41dd8bf0c48f"
      },
      "source": [
        "import nltk\n",
        "from nltk.tokenize import word_tokenize\n",
        "\n",
        "desc = df.Description.str.cat(sep=' ')\n",
        "\n",
        "tokens = word_tokenize(desc)\n",
        "\n",
        "vocabulary = set(tokens)\n",
        "print(len(vocabulary))"
      ],
      "execution_count": null,
      "outputs": [
        {
          "output_type": "stream",
          "text": [
            "12784\n"
          ],
          "name": "stdout"
        }
      ]
    },
    {
      "cell_type": "code",
      "metadata": {
        "id": "B3Bzg_3PaQrF",
        "colab": {
          "base_uri": "https://localhost:8080/",
          "height": 334
        },
        "outputId": "c9b051b8-828f-4ecc-b353-2ffec198957f"
      },
      "source": [
        "from nltk.probability import FreqDist\n",
        "\n",
        "frequency_dist = nltk.FreqDist(tokens)\n",
        "#sorted(frequency_dist,key=frequency_dist.__getitem__, reverse=True)[0:50]\n",
        "\n",
        "frequency_dist.most_common(5)\n",
        "\n",
        "import matplotlib.pyplot as plt\n",
        "frequency_dist.plot(30,cumulative=False)\n",
        "plt.show()"
      ],
      "execution_count": null,
      "outputs": [
        {
          "output_type": "display_data",
          "data": {
            "image/png": "[encoded data removed]",
            "text/plain": [
              "<Figure size 432x288 with 1 Axes>"
            ]
          },
          "metadata": {
            "tags": [],
            "needs_background": "light"
          }
        }
      ]
    },
    {
      "cell_type": "code",
      "metadata": {
        "id": "aqOtrFV4aVwF"
      },
      "source": [
        "from tensorflow.keras.preprocessing.text import Tokenizer\n",
        "from tensorflow.keras.preprocessing.sequence import pad_sequences\n",
        "\n",
        "for idx,row in df.iterrows():\n",
        "    row[0] = row[0].replace('rt',' ')\n",
        "    \n",
        "max_features = 13000\n",
        "maxlen = 900\n",
        "embedding_size = 200\n",
        "tokenizer = Tokenizer(num_words=max_features, split=' ')\n",
        "tokenizer.fit_on_texts(df['Description'].values)"
      ],
      "execution_count": null,
      "outputs": []
    },
    {
      "cell_type": "markdown",
      "metadata": {
        "id": "fH-0P4TybU1O"
      },
      "source": [
        "## Define X and Y"
      ]
    },
    {
      "cell_type": "code",
      "metadata": {
        "id": "rSkaB-pxbT6g",
        "colab": {
          "base_uri": "https://localhost:8080/"
        },
        "outputId": "ee7cb243-936c-4fd2-ef18-e98b2dad1662"
      },
      "source": [
        "X = tokenizer.texts_to_sequences(df['Description'])\n",
        "X = pad_sequences(X, maxlen = maxlen)\n",
        "y = pd.get_dummies(df['Category']).values\n",
        "\n",
        "print('Shape of data:', X.shape)\n",
        "print('Shape of label:', y.shape)\n"
      ],
      "execution_count": null,
      "outputs": [
        {
          "output_type": "stream",
          "text": [
            "Shape of data: (48914, 900)\n",
            "Shape of label: (48914, 74)\n"
          ],
          "name": "stdout"
        }
      ]
    },
    {
      "cell_type": "code",
      "metadata": {
        "id": "GxVXFYGzbkUX"
      },
      "source": [
        "# Splitting into training and test set\n",
        "from sklearn.model_selection import train_test_split\n",
        "\n",
        "X_train, X_test, Y_train, Y_test = train_test_split(X,y, random_state = 42)"
      ],
      "execution_count": null,
      "outputs": []
    },
    {
      "cell_type": "markdown",
      "metadata": {
        "id": "EDmUS8EKcEXE"
      },
      "source": [
        "## Word Embeddings using Glove Embedding file"
      ]
    },
    {
      "cell_type": "code",
      "metadata": {
        "id": "62AOIhjEbrqi"
      },
      "source": [
        "EMBEDDING_FILE = '/mnt/drive/MyDrive/Colab Notebooks/glove.6B.200d.txt'\n",
        "\n",
        "embeddings = {}\n",
        "for o in open(EMBEDDING_FILE, encoding=\"utf8\"):\n",
        "    word = o.split(\" \")[0]\n",
        "    # print(word)\n",
        "    embd = o.split(\" \")[1:]\n",
        "    embd = np.asarray(embd, dtype='float32')\n",
        "    # print(embd)\n",
        "    embeddings[word] = embd"
      ],
      "execution_count": null,
      "outputs": []
    },
    {
      "cell_type": "markdown",
      "metadata": {
        "id": "ozTsPOA7ctGq"
      },
      "source": [
        "## Weight Matrix"
      ]
    },
    {
      "cell_type": "code",
      "metadata": {
        "id": "7VRq8ol3cw-R",
        "colab": {
          "base_uri": "https://localhost:8080/"
        },
        "outputId": "b051dfdb-07dd-4fd8-d6ab-265681f3409f"
      },
      "source": [
        "embedding_matrix = np.zeros((max_features, 200))\n",
        "\n",
        "for word, i in tokenizer.word_index.items():\n",
        "  if i >= max_features:\n",
        "        continue\n",
        "  embedding_vector = embeddings.get(word)\n",
        "  if embedding_vector is not None:\n",
        "    embedding_matrix[i] = embedding_vector\n",
        "\n",
        "len(embeddings.values())"
      ],
      "execution_count": null,
      "outputs": [
        {
          "output_type": "execute_result",
          "data": {
            "text/plain": [
              "400000"
            ]
          },
          "metadata": {
            "tags": []
          },
          "execution_count": 169
        }
      ]
    },
    {
      "cell_type": "code",
      "metadata": {
        "id": "WXyCR66Cc8Bd",
        "colab": {
          "base_uri": "https://localhost:8080/"
        },
        "outputId": "52a2d535-c9cd-47e9-cfe7-db9cbc70f7aa"
      },
      "source": [
        "from tensorflow.keras.layers import Dense, Input, LSTM, Embedding, Dropout, Activation, Flatten, Bidirectional, GlobalMaxPool1D, SpatialDropout1D\n",
        "from tensorflow.keras.models import Model, Sequential\n",
        "from keras.models import model_from_json\n",
        "import os\n",
        "\n",
        "lstm_out = 128\n",
        "\n",
        "# Define LSTM Model\n",
        "\n",
        "model = Sequential()\n",
        "model.add(Embedding(max_features, embedding_size, weights = [embedding_matrix]))\n",
        "model.add(SpatialDropout1D(0.2))\n",
        "model.add(Bidirectional(LSTM(lstm_out, dropout=0.2, recurrent_dropout=0.2, return_sequences = True)))\n",
        "model.add(GlobalMaxPool1D())\n",
        "model.add(Dense(74, activation='softmax'))\n",
        "model.compile(loss='categorical_crossentropy', optimizer='adam', metrics=['accuracy'])\n",
        "print(model.summary())"
      ],
      "execution_count": null,
      "outputs": [
        {
          "output_type": "stream",
          "text": [
            "WARNING:tensorflow:Layer lstm_2 will not use cuDNN kernels since it doesn't meet the criteria. It will use a generic GPU kernel as fallback when running on GPU.\n",
            "WARNING:tensorflow:Layer lstm_2 will not use cuDNN kernels since it doesn't meet the criteria. It will use a generic GPU kernel as fallback when running on GPU.\n",
            "WARNING:tensorflow:Layer lstm_2 will not use cuDNN kernels since it doesn't meet the criteria. It will use a generic GPU kernel as fallback when running on GPU.\n",
            "Model: \"sequential_2\"\n",
            "_________________________________________________________________\n",
            "Layer (type)                 Output Shape              Param #   \n",
            "=================================================================\n",
            "embedding_2 (Embedding)      (None, None, 200)         2600000   \n",
            "_________________________________________________________________\n",
            "spatial_dropout1d_2 (Spatial (None, None, 200)         0         \n",
            "_________________________________________________________________\n",
            "bidirectional_2 (Bidirection (None, None, 256)         336896    \n",
            "_________________________________________________________________\n",
            "global_max_pooling1d_2 (Glob (None, 256)               0         \n",
            "_________________________________________________________________\n",
            "dense_2 (Dense)              (None, 74)                19018     \n",
            "=================================================================\n",
            "Total params: 2,955,914\n",
            "Trainable params: 2,955,914\n",
            "Non-trainable params: 0\n",
            "_________________________________________________________________\n",
            "None\n"
          ],
          "name": "stdout"
        }
      ]
    },
    {
      "cell_type": "code",
      "metadata": {
        "id": "JrZavS0Txa7h",
        "colab": {
          "base_uri": "https://localhost:8080/"
        },
        "outputId": "055f9212-443b-4b63-b09c-cec0a2025732"
      },
      "source": [
        "!pwd"
      ],
      "execution_count": null,
      "outputs": [
        {
          "output_type": "stream",
          "text": [
            "/mnt/drive/My Drive/Colab Notebooks\n"
          ],
          "name": "stdout"
        }
      ]
    },
    {
      "cell_type": "code",
      "metadata": {
        "id": "WtmZFrSndLbb",
        "colab": {
          "base_uri": "https://localhost:8080/"
        },
        "outputId": "6944eb20-b32d-4998-c17e-40ffece237fb"
      },
      "source": [
        "# Training LSTM Model\n",
        "\n",
        "from keras.callbacks import ModelCheckpoint\n",
        "\n",
        "epochs = 10\n",
        "batch_size = 64\n",
        "\n",
        "filepath=\"/mnt/drive/MyDrive/Colab Notebooks/weights-simple.hdf5\"\n",
        "checkpointer = ModelCheckpoint(filepath, monitor='val_accuracy', verbose=1, save_best_only=True, mode='max')\n",
        "history = model.fit(X_train, Y_train, epochs=epochs, batch_size=batch_size,validation_split=0.1)"
      ],
      "execution_count": null,
      "outputs": [
        {
          "output_type": "stream",
          "text": [
            "Epoch 1/10\n",
            "516/516 [==============================] - 3135s 6s/step - loss: 1.7740 - accuracy: 0.6048 - val_loss: 0.6961 - val_accuracy: 0.8247\n",
            "Epoch 2/10\n",
            "516/516 [==============================] - 3127s 6s/step - loss: 0.5672 - accuracy: 0.8573 - val_loss: 0.3480 - val_accuracy: 0.9013\n",
            "Epoch 3/10\n",
            "516/516 [==============================] - 3131s 6s/step - loss: 0.3316 - accuracy: 0.9129 - val_loss: 0.2457 - val_accuracy: 0.9283\n",
            "Epoch 4/10\n",
            "516/516 [==============================] - 3123s 6s/step - loss: 0.2278 - accuracy: 0.9363 - val_loss: 0.1913 - val_accuracy: 0.9409\n",
            "Epoch 5/10\n",
            "516/516 [==============================] - 3131s 6s/step - loss: 0.1835 - accuracy: 0.9468 - val_loss: 0.1661 - val_accuracy: 0.9474\n",
            "Epoch 6/10\n",
            "516/516 [==============================] - 3128s 6s/step - loss: 0.1581 - accuracy: 0.9518 - val_loss: 0.1552 - val_accuracy: 0.9526\n",
            "Epoch 7/10\n",
            "516/516 [==============================] - 3136s 6s/step - loss: 0.1421 - accuracy: 0.9548 - val_loss: 0.1492 - val_accuracy: 0.9545\n",
            "Epoch 8/10\n",
            "516/516 [==============================] - 3130s 6s/step - loss: 0.1313 - accuracy: 0.9585 - val_loss: 0.1459 - val_accuracy: 0.9545\n",
            "Epoch 9/10\n",
            "516/516 [==============================] - 3147s 6s/step - loss: 0.1261 - accuracy: 0.9586 - val_loss: 0.1481 - val_accuracy: 0.9545\n",
            "Epoch 10/10\n",
            "516/516 [==============================] - 3121s 6s/step - loss: 0.1215 - accuracy: 0.9590 - val_loss: 0.1372 - val_accuracy: 0.9553\n"
          ],
          "name": "stdout"
        }
      ]
    },
    {
      "cell_type": "code",
      "metadata": {
        "id": "dpdjVUDRgT93",
        "colab": {
          "base_uri": "https://localhost:8080/"
        },
        "outputId": "7a6b24a7-9a8d-4c69-e99b-dc05b5d5ac28"
      },
      "source": [
        "model.summary()"
      ],
      "execution_count": null,
      "outputs": [
        {
          "output_type": "stream",
          "text": [
            "Model: \"sequential_2\"\n",
            "_________________________________________________________________\n",
            "Layer (type)                 Output Shape              Param #   \n",
            "=================================================================\n",
            "embedding_2 (Embedding)      (None, None, 200)         2600000   \n",
            "_________________________________________________________________\n",
            "spatial_dropout1d_2 (Spatial (None, None, 200)         0         \n",
            "_________________________________________________________________\n",
            "bidirectional_2 (Bidirection (None, None, 256)         336896    \n",
            "_________________________________________________________________\n",
            "global_max_pooling1d_2 (Glob (None, 256)               0         \n",
            "_________________________________________________________________\n",
            "dense_2 (Dense)              (None, 74)                19018     \n",
            "=================================================================\n",
            "Total params: 2,955,914\n",
            "Trainable params: 2,955,914\n",
            "Non-trainable params: 0\n",
            "_________________________________________________________________\n"
          ],
          "name": "stdout"
        }
      ]
    },
    {
      "cell_type": "code",
      "metadata": {
        "id": "vxykkHM9gWOl"
      },
      "source": [
        "model.save('/mnt/drive/MyDrive/Colab Notebooks/tickettrained_v1.h5')"
      ],
      "execution_count": null,
      "outputs": []
    },
    {
      "cell_type": "markdown",
      "metadata": {
        "id": "SRsxW8QCd03H"
      },
      "source": [
        "## Training V/S Validation set accuracy plot"
      ]
    },
    {
      "cell_type": "code",
      "metadata": {
        "id": "rAP9BYS9d5nu",
        "colab": {
          "base_uri": "https://localhost:8080/",
          "height": 279
        },
        "outputId": "35f25296-73e6-4370-8df5-e97446e363ed"
      },
      "source": [
        "df_1 = pd.DataFrame({'epochs':history.epoch, 'accuracy': history.history['accuracy'], 'validation_accuracy': history.history['val_accuracy']})\n",
        "g = sns.pointplot(x=\"epochs\", y=\"accuracy\", data=df_1, fit_reg=False)\n",
        "g = sns.pointplot(x=\"epochs\", y=\"validation_accuracy\", data=df_1, fit_reg=False, color='green')"
      ],
      "execution_count": null,
      "outputs": [
        {
          "output_type": "display_data",
          "data": {
            "image/png": "[encoded data removed]",
            "text/plain": [
              "<Figure size 432x288 with 1 Axes>"
            ]
          },
          "metadata": {
            "tags": [],
            "needs_background": "light"
          }
        }
      ]
    },
    {
      "cell_type": "code",
      "metadata": {
        "id": "N9L7Il91etFt",
        "colab": {
          "base_uri": "https://localhost:8080/"
        },
        "outputId": "8a8c07cb-010b-4be6-d870-071903c25ef2"
      },
      "source": [
        "predicted = model.predict(X_test)\n",
        "predicted"
      ],
      "execution_count": null,
      "outputs": [
        {
          "output_type": "execute_result",
          "data": {
            "text/plain": [
              "array([[1.03175307e-06, 1.05628499e-06, 5.50665931e-08, ...,\n",
              "        1.73920061e-08, 7.91593047e-04, 1.18183898e-07],\n",
              "       [8.04402305e-07, 1.43592815e-09, 2.07139101e-06, ...,\n",
              "        1.71826459e-11, 2.12002234e-07, 2.88806382e-06],\n",
              "       [1.42657436e-05, 5.39061602e-07, 6.14903684e-07, ...,\n",
              "        2.24373942e-08, 4.65672612e-09, 5.73863963e-06],\n",
              "       ...,\n",
              "       [1.95914945e-05, 2.41661251e-08, 7.48457865e-08, ...,\n",
              "        1.71652027e-06, 4.84367911e-06, 9.44702236e-08],\n",
              "       [1.33501965e-06, 5.07164380e-11, 3.95370876e-07, ...,\n",
              "        1.71451298e-08, 3.46878301e-06, 5.90515263e-08],\n",
              "       [1.56211585e-03, 8.05820491e-06, 2.09902395e-02, ...,\n",
              "        1.04439074e-07, 1.09847751e-03, 9.32212055e-01]], dtype=float32)"
            ]
          },
          "metadata": {
            "tags": []
          },
          "execution_count": 176
        }
      ]
    },
    {
      "cell_type": "code",
      "metadata": {
        "id": "OWsUwKoUfiIH"
      },
      "source": [
        "\n",
        "predicted = np.argmax(predicted, axis=1)"
      ],
      "execution_count": null,
      "outputs": []
    },
    {
      "cell_type": "code",
      "metadata": {
        "id": "LyqanO5xfkwV"
      },
      "source": [
        "\n",
        "Y_1 = np.argmax(Y_test, axis=1)"
      ],
      "execution_count": null,
      "outputs": []
    },
    {
      "cell_type": "markdown",
      "metadata": {
        "id": "IJbiODzlfyUY"
      },
      "source": [
        "## Classification Report"
      ]
    },
    {
      "cell_type": "code",
      "metadata": {
        "id": "OtJM8uDqfwfx",
        "colab": {
          "base_uri": "https://localhost:8080/"
        },
        "outputId": "098f1fc9-a2ab-4efd-a76b-cd7a78ac14dc"
      },
      "source": [
        "from sklearn.metrics import classification_report\n",
        "print(classification_report(Y_1, predicted))"
      ],
      "execution_count": null,
      "outputs": [
        {
          "output_type": "stream",
          "text": [
            "              precision    recall  f1-score   support\n",
            "\n",
            "           0       0.87      0.64      0.74       172\n",
            "           1       0.99      0.88      0.93       162\n",
            "           2       0.99      0.83      0.90       178\n",
            "           3       1.00      1.00      1.00       179\n",
            "           4       0.95      0.88      0.92       171\n",
            "           5       0.97      0.98      0.97       178\n",
            "           6       0.96      0.98      0.97       147\n",
            "           7       1.00      1.00      1.00       152\n",
            "           8       0.98      1.00      0.99       173\n",
            "           9       1.00      1.00      1.00       152\n",
            "          10       0.97      0.96      0.97       161\n",
            "          11       0.90      0.94      0.92       170\n",
            "          12       0.92      0.90      0.91       156\n",
            "          13       0.99      1.00      1.00       147\n",
            "          14       0.99      1.00      0.99       151\n",
            "          15       1.00      1.00      1.00       176\n",
            "          16       0.99      1.00      0.99       165\n",
            "          17       0.97      0.97      0.97       160\n",
            "          18       0.98      0.97      0.97       181\n",
            "          19       0.97      1.00      0.98       157\n",
            "          20       0.99      1.00      0.99       154\n",
            "          21       0.98      1.00      0.99       153\n",
            "          22       0.99      0.96      0.97       149\n",
            "          23       0.92      0.93      0.93       168\n",
            "          24       1.00      1.00      1.00       169\n",
            "          25       0.99      1.00      0.99       158\n",
            "          26       1.00      1.00      1.00       183\n",
            "          27       0.97      1.00      0.99       174\n",
            "          28       0.98      0.98      0.98       172\n",
            "          29       1.00      1.00      1.00       169\n",
            "          30       0.98      1.00      0.99       155\n",
            "          31       0.99      1.00      1.00       157\n",
            "          32       1.00      1.00      1.00       174\n",
            "          33       1.00      1.00      1.00       163\n",
            "          34       0.96      0.97      0.97       172\n",
            "          35       0.98      1.00      0.99       163\n",
            "          36       0.99      1.00      0.99       162\n",
            "          37       0.99      1.00      1.00       147\n",
            "          38       1.00      1.00      1.00       170\n",
            "          39       1.00      0.92      0.96       178\n",
            "          40       0.98      0.82      0.89       179\n",
            "          41       1.00      1.00      1.00       172\n",
            "          42       0.99      0.71      0.82       163\n",
            "          43       1.00      1.00      1.00       173\n",
            "          44       1.00      1.00      1.00       164\n",
            "          45       0.77      0.79      0.78       184\n",
            "          46       0.99      1.00      1.00       185\n",
            "          47       1.00      1.00      1.00       163\n",
            "          48       1.00      1.00      1.00       157\n",
            "          49       1.00      1.00      1.00       161\n",
            "          50       1.00      1.00      1.00       166\n",
            "          51       0.99      1.00      1.00       166\n",
            "          52       1.00      1.00      1.00       149\n",
            "          53       0.32      1.00      0.49       156\n",
            "          54       1.00      1.00      1.00       163\n",
            "          55       1.00      1.00      1.00       165\n",
            "          56       0.89      0.68      0.77       139\n",
            "          57       1.00      0.77      0.87       157\n",
            "          58       1.00      1.00      1.00       180\n",
            "          59       0.97      1.00      0.99       145\n",
            "          60       1.00      1.00      1.00       161\n",
            "          61       1.00      1.00      1.00       163\n",
            "          62       0.99      1.00      0.99       171\n",
            "          63       1.00      1.00      1.00       174\n",
            "          64       1.00      1.00      1.00       180\n",
            "          65       1.00      1.00      1.00       172\n",
            "          66       1.00      1.00      1.00       175\n",
            "          67       0.96      1.00      0.98       176\n",
            "          68       1.00      1.00      1.00       173\n",
            "          69       1.00      1.00      1.00       164\n",
            "          70       0.97      1.00      0.99       166\n",
            "          71       1.00      1.00      1.00       151\n",
            "          72       0.94      0.47      0.62       172\n",
            "          73       0.55      0.42      0.48       166\n",
            "\n",
            "    accuracy                           0.95     12229\n",
            "   macro avg       0.97      0.95      0.95     12229\n",
            "weighted avg       0.97      0.95      0.95     12229\n",
            "\n",
            "              precision    recall  f1-score   support\n",
            "\n",
            "           0       0.87      0.64      0.74       172\n",
            "           1       0.99      0.88      0.93       162\n",
            "           2       0.99      0.83      0.90       178\n",
            "           3       1.00      1.00      1.00       179\n",
            "           4       0.95      0.88      0.92       171\n",
            "           5       0.97      0.98      0.97       178\n",
            "           6       0.96      0.98      0.97       147\n",
            "           7       1.00      1.00      1.00       152\n",
            "           8       0.98      1.00      0.99       173\n",
            "           9       1.00      1.00      1.00       152\n",
            "          10       0.97      0.96      0.97       161\n",
            "          11       0.90      0.94      0.92       170\n",
            "          12       0.92      0.90      0.91       156\n",
            "          13       0.99      1.00      1.00       147\n",
            "          14       0.99      1.00      0.99       151\n",
            "          15       1.00      1.00      1.00       176\n",
            "          16       0.99      1.00      0.99       165\n",
            "          17       0.97      0.97      0.97       160\n",
            "          18       0.98      0.97      0.97       181\n",
            "          19       0.97      1.00      0.98       157\n",
            "          20       0.99      1.00      0.99       154\n",
            "          21       0.98      1.00      0.99       153\n",
            "          22       0.99      0.96      0.97       149\n",
            "          23       0.92      0.93      0.93       168\n",
            "          24       1.00      1.00      1.00       169\n",
            "          25       0.99      1.00      0.99       158\n",
            "          26       1.00      1.00      1.00       183\n",
            "          27       0.97      1.00      0.99       174\n",
            "          28       0.98      0.98      0.98       172\n",
            "          29       1.00      1.00      1.00       169\n",
            "          30       0.98      1.00      0.99       155\n",
            "          31       0.99      1.00      1.00       157\n",
            "          32       1.00      1.00      1.00       174\n",
            "          33       1.00      1.00      1.00       163\n",
            "          34       0.96      0.97      0.97       172\n",
            "          35       0.98      1.00      0.99       163\n",
            "          36       0.99      1.00      0.99       162\n",
            "          37       0.99      1.00      1.00       147\n",
            "          38       1.00      1.00      1.00       170\n",
            "          39       1.00      0.92      0.96       178\n",
            "          40       0.98      0.82      0.89       179\n",
            "          41       1.00      1.00      1.00       172\n",
            "          42       0.99      0.71      0.82       163\n",
            "          43       1.00      1.00      1.00       173\n",
            "          44       1.00      1.00      1.00       164\n",
            "          45       0.77      0.79      0.78       184\n",
            "          46       0.99      1.00      1.00       185\n",
            "          47       1.00      1.00      1.00       163\n",
            "          48       1.00      1.00      1.00       157\n",
            "          49       1.00      1.00      1.00       161\n",
            "          50       1.00      1.00      1.00       166\n",
            "          51       0.99      1.00      1.00       166\n",
            "          52       1.00      1.00      1.00       149\n",
            "          53       0.32      1.00      0.49       156\n",
            "          54       1.00      1.00      1.00       163\n",
            "          55       1.00      1.00      1.00       165\n",
            "          56       0.89      0.68      0.77       139\n",
            "          57       1.00      0.77      0.87       157\n",
            "          58       1.00      1.00      1.00       180\n",
            "          59       0.97      1.00      0.99       145\n",
            "          60       1.00      1.00      1.00       161\n",
            "          61       1.00      1.00      1.00       163\n",
            "          62       0.99      1.00      0.99       171\n",
            "          63       1.00      1.00      1.00       174\n",
            "          64       1.00      1.00      1.00       180\n",
            "          65       1.00      1.00      1.00       172\n",
            "          66       1.00      1.00      1.00       175\n",
            "          67       0.96      1.00      0.98       176\n",
            "          68       1.00      1.00      1.00       173\n",
            "          69       1.00      1.00      1.00       164\n",
            "          70       0.97      1.00      0.99       166\n",
            "          71       1.00      1.00      1.00       151\n",
            "          72       0.94      0.47      0.62       172\n",
            "          73       0.55      0.42      0.48       166\n",
            "\n",
            "    accuracy                           0.95     12229\n",
            "   macro avg       0.97      0.95      0.95     12229\n",
            "weighted avg       0.97      0.95      0.95     12229\n",
            "\n"
          ],
          "name": "stdout"
        }
      ]
    }
  ]
}